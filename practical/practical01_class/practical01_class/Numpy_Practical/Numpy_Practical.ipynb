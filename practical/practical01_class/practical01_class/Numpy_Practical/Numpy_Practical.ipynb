version https://git-lfs.github.com/spec/v1
oid sha256:853e921cbf6997ff14bf2882c44e8b49a049a4c77e798bd786cd4b0dc740be66
size 11641
