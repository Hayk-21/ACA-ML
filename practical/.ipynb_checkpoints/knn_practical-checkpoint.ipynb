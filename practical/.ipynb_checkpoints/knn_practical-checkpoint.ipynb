version https://git-lfs.github.com/spec/v1
oid sha256:7dfef3a1075976bc06024f00aa25b51725314f04e4e2ac66d6092f600c64511f
size 179701
