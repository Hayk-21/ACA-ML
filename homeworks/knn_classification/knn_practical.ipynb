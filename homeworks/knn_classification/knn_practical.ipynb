version https://git-lfs.github.com/spec/v1
oid sha256:6f1b5d05e7a0e426b82e22a998392259004ce808f8e88001147577f4aa68feed
size 179431
