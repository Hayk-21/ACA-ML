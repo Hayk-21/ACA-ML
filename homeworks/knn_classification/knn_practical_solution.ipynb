version https://git-lfs.github.com/spec/v1
oid sha256:0dcbb2bda1fcbf7d1ca07991cc38256f45fa1dfe9707cc384a3bdf055463442e
size 179934
