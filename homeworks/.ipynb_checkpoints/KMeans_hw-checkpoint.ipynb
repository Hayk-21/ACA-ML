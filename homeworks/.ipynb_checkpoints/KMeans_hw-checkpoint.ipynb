version https://git-lfs.github.com/spec/v1
oid sha256:530106ed1a1acfa91e0ff92e478e552cb197f027f357f3032836edfa4d9423e3
size 106798
