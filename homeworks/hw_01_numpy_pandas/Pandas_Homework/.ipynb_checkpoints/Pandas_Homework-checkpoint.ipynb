version https://git-lfs.github.com/spec/v1
oid sha256:04ae39ce8b3fe668d3b109385768988b3a2a4184b6256e08e99ffe60d9a0cfc2
size 26588
