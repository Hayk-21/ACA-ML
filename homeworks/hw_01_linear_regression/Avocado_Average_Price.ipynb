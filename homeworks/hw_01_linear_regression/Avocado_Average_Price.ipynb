version https://git-lfs.github.com/spec/v1
oid sha256:912e9e1a6b61c8ead453061390db4e6820771de58d45ca118440207695981cdd
size 39019
