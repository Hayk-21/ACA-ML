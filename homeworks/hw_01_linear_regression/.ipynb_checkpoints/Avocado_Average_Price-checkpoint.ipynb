version https://git-lfs.github.com/spec/v1
oid sha256:7fecfde454805eacabd50286640ec50cec46005acb067852a6d36ba0511c0451
size 57309
