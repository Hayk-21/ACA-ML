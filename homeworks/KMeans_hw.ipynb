version https://git-lfs.github.com/spec/v1
oid sha256:f764fbbcf9b293725e6009cb70c0071c5742d8ec1f694e6fe29b93a02c1275f9
size 107174
